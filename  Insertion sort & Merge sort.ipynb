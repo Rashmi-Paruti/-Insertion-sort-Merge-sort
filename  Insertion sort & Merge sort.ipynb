{
 "cells": [
  {
   "cell_type": "markdown",
   "metadata": {},
   "source": [
    "\n",
    "# Write a python program to implement insertion sort and merge sort using lists "
   ]
  },
  {
   "cell_type": "markdown",
   "metadata": {},
   "source": [
    "# INSERTION SORT"
   ]
  },
  {
   "cell_type": "code",
   "execution_count": 1,
   "metadata": {},
   "outputs": [],
   "source": [
    "#Function Definition \n",
    "def insertion_sort(alist): \n",
    "#Start Range from 1 Upto Entered Elements are Ascending Order \n",
    "    for i in range(1, len(alist)): \n",
    "        temp = alist[i] \n",
    "        j = i - 1 \n",
    "        while (j >= 0 and temp < alist[j]): \n",
    "            alist[j + 1] = alist[j] \n",
    "            j = j - 1 \n",
    "            alist[j + 1] = temp \n"
   ]
  },
  {
   "cell_type": "code",
   "execution_count": 4,
   "metadata": {},
   "outputs": [
    {
     "name": "stdout",
     "output_type": "stream",
     "text": [
      "Enter The List of Numbers:2 6 1 2 3\n"
     ]
    }
   ],
   "source": [
    "#Enter the List Of Items \n",
    "alist = input('Enter The List of Numbers:').split()\n"
   ]
  },
  {
   "cell_type": "code",
   "execution_count": 5,
   "metadata": {},
   "outputs": [
    {
     "name": "stdout",
     "output_type": "stream",
     "text": [
      "Sorted List:  [1, 2, 2, 3, 6]\n"
     ]
    }
   ],
   "source": [
    "alist = [int(x) for x in alist] \n",
    "#function call \n",
    "insertion_sort(alist) \n",
    "print('Sorted List: ', end=' ') \n",
    "#diplay the Sorted Lists \n",
    "print(alist) \n"
   ]
  },
  {
   "cell_type": "markdown",
   "metadata": {},
   "source": []
  },
  {
   "cell_type": "markdown",
   "metadata": {},
   "source": [
    "# MERGE SORT"
   ]
  },
  {
   "cell_type": "code",
   "execution_count": 20,
   "metadata": {},
   "outputs": [],
   "source": [
    "def mergesort(list1): \n",
    "    if len(list1) > 1: \n",
    "        mid = len(list1) // 2 \n",
    "        left = list1[:mid] \n",
    "        right = list1[mid:]\n",
    "        mergesort(left) \n",
    "        mergesort(right) \n",
    "        i = 0 \n",
    "        j = 0 \n",
    "        k = 0 \n",
    "        while i < len(left) and j < len(right): \n",
    "            if left[i] < right[j]: \n",
    "                list1[k] = left[i] \n",
    "                i = i + 1 \n",
    "                k = k + 1 \n",
    "            else: \n",
    "                list1[k] = right[j] \n",
    "                j = j + 1 \n",
    "                k = k + 1 \n",
    "            while i < len(left): # if there is element left out in the left list \n",
    "                list1[k] = left[i] \n",
    "                i = i + 1 \n",
    "                k = k + 1\n",
    "            while j < len(right): # if there is element left out in the right list \n",
    "                list1[k] = right[j] \n",
    "                j = j + 1 \n",
    "                k = k + 1 \n",
    "\n"
   ]
  },
  {
   "cell_type": "code",
   "execution_count": 25,
   "metadata": {},
   "outputs": [
    {
     "name": "stdout",
     "output_type": "stream",
     "text": [
      "enter the list of values to be sorted: 2 6 1 5 7\n"
     ]
    }
   ],
   "source": [
    "list1 = input('enter the list of values to be sorted: ').split() \n",
    "list1 = [int(x) for x in list1] # for every element in list1 we will call merge sort \n",
    "mergesort(list1)\n"
   ]
  },
  {
   "cell_type": "code",
   "execution_count": 26,
   "metadata": {},
   "outputs": [
    {
     "name": "stdout",
     "output_type": "stream",
     "text": [
      "[1, 2, 6, 5, 7]\n"
     ]
    }
   ],
   "source": [
    "print(list1) "
   ]
  },
  {
   "cell_type": "code",
   "execution_count": null,
   "metadata": {},
   "outputs": [],
   "source": []
  }
 ],
 "metadata": {
  "kernelspec": {
   "display_name": "Python 3",
   "language": "python",
   "name": "python3"
  },
  "language_info": {
   "codemirror_mode": {
    "name": "ipython",
    "version": 3
   },
   "file_extension": ".py",
   "mimetype": "text/x-python",
   "name": "python",
   "nbconvert_exporter": "python",
   "pygments_lexer": "ipython3",
   "version": "3.7.4"
  }
 },
 "nbformat": 4,
 "nbformat_minor": 2
}
